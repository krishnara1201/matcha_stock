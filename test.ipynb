{
 "cells": [
  {
   "cell_type": "code",
   "execution_count": 1,
   "id": "09ac4c70",
   "metadata": {},
   "outputs": [],
   "source": [
    "import requests\n",
    "from bs4 import BeautifulSoup\n",
    "from apscheduler.schedulers.blocking import BlockingScheduler\n",
    "import time\n",
    "import logging"
   ]
  },
  {
   "cell_type": "code",
   "execution_count": 2,
   "id": "7d8cf80d",
   "metadata": {},
   "outputs": [],
   "source": [
    "DISCORD_WEBHOOK = \"https://discord.com/api/webhooks/1369816851621613661/Xz73QCKu_YaxoRSrKRLngfwanWoH-OYzdnu6XJjdgSmKTFGqx9JKL7II0sYMWCPbYLlH\"\n"
   ]
  },
  {
   "cell_type": "code",
   "execution_count": 3,
   "id": "46159cd9",
   "metadata": {},
   "outputs": [],
   "source": [
    "def send_notification(message):\n",
    "# Send Discord notification\n",
    "    if DISCORD_WEBHOOK:\n",
    "        try:\n",
    "            discord_data = {\"content\": message}\n",
    "            requests.post(DISCORD_WEBHOOK, json=discord_data)\n",
    "        except Exception as e:\n",
    "            print(f\"Failed to send Discord notification: {str(e)}\")"
   ]
  },
  {
   "cell_type": "code",
   "execution_count": 5,
   "id": "1ef67a43",
   "metadata": {},
   "outputs": [],
   "source": [
    "send_notification(\"ilo smaulie\")"
   ]
  }
 ],
 "metadata": {
  "kernelspec": {
   "display_name": "tracker_venv",
   "language": "python",
   "name": "python3"
  },
  "language_info": {
   "codemirror_mode": {
    "name": "ipython",
    "version": 3
   },
   "file_extension": ".py",
   "mimetype": "text/x-python",
   "name": "python",
   "nbconvert_exporter": "python",
   "pygments_lexer": "ipython3",
   "version": "3.10.6"
  }
 },
 "nbformat": 4,
 "nbformat_minor": 5
}
