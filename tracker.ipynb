{
 "cells": [
  {
   "cell_type": "code",
   "execution_count": 3,
   "id": "04e637f8",
   "metadata": {},
   "outputs": [],
   "source": [
    "import requests\n",
    "from bs4 import BeautifulSoup\n",
    "from apscheduler.schedulers.blocking import BlockingScheduler\n",
    "import time\n",
    "import logging\n",
    "\n",
    "# Configure logging\n",
    "logging.basicConfig(level=logging.INFO, format='%(asctime)s - %(message)s')\n",
    "logger = logging.getLogger()\n",
    "\n",
    "LOGIN_URL = \"https://www.marukyu-koyamaen.co.jp/english/shop/account\"\n",
    "PRODUCT_URL = \"https://www.marukyu-koyamaen.co.jp/english/shop/products/11b1100c1\"\n",
    "USERNAME = \"17aayushisharma@gmail.com\"\n",
    "PASSWORD = \"Wishiandputta25\"\n",
    "\n",
    "# Create session to persist cookies\n",
    "session = requests.Session()\n",
    "\n",
    "# 1. Log in\n",
    "login_data = {\n",
    "    \"username\": USERNAME,\n",
    "    \"password\": PASSWORD,\n",
    "    # Add hidden form fields (check page source)\n",
    "    \"csrf_token\": \"extract_from_login_page\" \n",
    "}\n",
    "\n",
    "login_response = session.post(LOGIN_URL, data=login_data)\n",
    "login_response.raise_for_status()  # Check login success\n",
    "\n"
   ]
  },
  {
   "cell_type": "code",
   "execution_count": null,
   "id": "75deabf4",
   "metadata": {},
   "outputs": [],
   "source": [
    "DISCORD_WEBHOOK = \"https://discord.com/api/webhooks/1369816851621613661/Xz73QCKu_YaxoRSrKRLngfwanWoH-OYzdnu6XJjdgSmKTFGqx9JKL7II0sYMWCPbYLlH\""
   ]
  },
  {
   "cell_type": "code",
   "execution_count": null,
   "id": "33657c9b",
   "metadata": {},
   "outputs": [],
   "source": [
    "def login_and_check_stock():\n",
    "    session = requests.Session()\n",
    "    \n",
    "    try:\n",
    "        # Step 1: Get the login page to extract any CSRF token if needed\n",
    "        login_page = session.get(LOGIN_URL)\n",
    "        \n",
    "        # You may need to extract CSRF token - modify as needed\n",
    "        # csrf_token = login_soup.find('input', {'name': 'csrf_token'}).get('value')\n",
    "        \n",
    "        # Step 2: Submit login form\n",
    "        login_data = {\n",
    "            \"username\": USERNAME,\n",
    "            \"password\": PASSWORD,\n",
    "            \"csrf_token\": \"extract_from_login_page\"  # Uncomment if needed\n",
    "        }\n",
    "        \n",
    "        login_response = session.post(LOGIN_URL, data=login_data)\n",
    "        \n",
    "        if login_response.status_code != 200:\n",
    "            logger.error(f\"Login failed with status code: {login_response.status_code}\")\n",
    "            return\n",
    "            \n",
    "        logger.info(\"Login successful\")\n",
    "        \n",
    "        # Step 3: Check the product page\n",
    "        product_page = session.get(PRODUCT_URL)\n",
    "        product_soup = BeautifulSoup(product_page.text, 'html.parser')\n",
    "        \n",
    "        # Check for in-stock status using the classes you provided\n",
    "        in_stock_element = product_soup.find(class_=\"product product-type-variable status-publish instock\")\n",
    "        out_of_stock_element = product_soup.find(class_=\"product product-type-variable status-publish outofstock\")\n",
    "        \n",
    "        if in_stock_element or len(out_of_stock_element) != 2:\n",
    "            \n",
    "            logger.info(\"Product is IN STOCK! 🎉\")\n",
    "            for i in range(10):\n",
    "                send_notification(\"Product is IN STOCK! 🎉 Go to: \" + PRODUCT_URL)\n",
    "            return True\n",
    "        elif out_of_stock_element:\n",
    "            logger.info(\"Product is still out of stock\")\n",
    "            return False\n",
    "        else:\n",
    "            logger.warning(\"Could not determine stock status\")\n",
    "            return None\n",
    "            \n",
    "    except Exception as e:\n",
    "        logger.error(f\"Error checking stock: {str(e)}\")\n",
    "        return None"
   ]
  },
  {
   "cell_type": "code",
   "execution_count": 40,
   "id": "141fa138",
   "metadata": {},
   "outputs": [],
   "source": [
    "def send_notification(message):\n",
    "    # Send Discord notification\n",
    "    if DISCORD_WEBHOOK:\n",
    "        try:\n",
    "            discord_data = {\"content\": message}\n",
    "            requests.post(DISCORD_WEBHOOK, json=discord_data)\n",
    "            logger.info(\"Discord notification sent\")\n",
    "        except Exception as e:\n",
    "            logger.error(f\"Failed to send Discord notification: {str(e)}\")\n",
    "    \n",
    "    "
   ]
  },
  {
   "cell_type": "code",
   "execution_count": 4,
   "id": "6540a59d",
   "metadata": {},
   "outputs": [],
   "source": [
    "\n",
    "session = requests.Session()\n",
    "# Step 1: Get the login page to extract any CSRF token if needed\n",
    "login_page = session.get(LOGIN_URL)\n",
    "\n",
    "# You may need to extract CSRF token - modify as needed\n",
    "# csrf_token = login_soup.find('input', {'name': 'csrf_token'}).get('value')\n",
    "\n",
    "# Step 2: Submit login form\n",
    "login_data = {\n",
    "    \"username\": USERNAME,\n",
    "    \"password\": PASSWORD,\n",
    "    \"csrf_token\": \"extract_from_login_page\"  # Uncomment if needed\n",
    "}\n",
    "\n",
    "login_response = session.post(LOGIN_URL, data=login_data)\n",
    "\n",
    "\n",
    "# Step 3: Check the product page\n",
    "product_page = session.get(PRODUCT_URL)\n",
    "product_soup = BeautifulSoup(product_page.text, 'html.parser')\n",
    "\n",
    "# Check for in-stock status using the classes you provided\n",
    "in_stock_element = product_soup.find(class_=\"product product-type-variable status-publish instock\")\n",
    "out_of_stock_element = product_soup.find(class_=\"product product-type-variable status-publish outofstock\")"
   ]
  },
  {
   "cell_type": "code",
   "execution_count": 7,
   "id": "a228ad3a",
   "metadata": {},
   "outputs": [
    {
     "name": "stdout",
     "output_type": "stream",
     "text": [
      "<li class=\"product product-type-variable status-publish outofstock\" id=\"item-457\"> <a class=\"woocommerce-loop-product__link\" data-item='{\"item_id\":\"1262040C1\",\"item_name\":\"Cooking Matcha (in a sifter can) - Excellent\"}' href=\"https://www.marukyu-koyamaen.co.jp/english/shop/products/1262040c1\" title=\"Cooking Matcha (in a sifter can) - Excellent\"> <span class=\"product-flashs\"><span class=\"product-flash\">Limited Edition Teas</span></span><div class=\"product-image\"><img alt=\"    \t\" class=\"swiper-lazy attachment-square wp-post-image\" decoding=\"async\" height=\"400\" ratio=\"square\" sizes=\"(max-width: 400px) 100vw, 400px\" src=\"https://www.marukyu-koyamaen.co.jp/english/shop/wp-content/uploads/2020/11/01-16-cooking-40g-7494-400x400.jpg\" srcset=\"https://www.marukyu-koyamaen.co.jp/english/shop/wp-content/uploads/2020/11/01-16-cooking-40g-7494-400x400.jpg 400w, https://www.marukyu-koyamaen.co.jp/english/shop/wp-content/uploads/2020/11/01-16-cooking-40g-7494-200x200.jpg 200w, https://www.marukyu-koyamaen.co.jp/english/shop/wp-content/uploads/2020/11/01-16-cooking-40g-7494.jpg 600w\" width=\"400\"/></div><div class=\"product-name\"><h4>Cooking Matcha (in a sifter can) – Excellent</h4></div><div class=\"product-price price\"><span class=\"woocs_price_code woocs_price_JPY\" data-currency=\"\" data-product-id=\"457\" data-redraw-id=\"681c00e475967\"><span class=\"woocommerce-Price-amount amount\"><bdi><span class=\"woocommerce-Price-currencySymbol\">¥</span>850</bdi></span></span><span class=\"woocs_price_code woocs_price_USD\" data-currency=\"\" data-product-id=\"457\" data-redraw-id=\"681c00e475a93\"><span class=\"woocommerce-Price-amount amount\"><bdi><span class=\"woocommerce-Price-currencySymbol\">$</span>5<small class=\"woocommerce-Price-decimal\">.97</small></bdi></span></span><span class=\"woocs_price_code woocs_price_EUR\" data-currency=\"\" data-product-id=\"457\" data-redraw-id=\"681c00e475bb9\"><span class=\"woocommerce-Price-amount amount\"><bdi><span class=\"woocommerce-Price-currencySymbol\">€</span>5<small class=\"woocommerce-Price-decimal\">.25</small></bdi></span></span><span class=\"woocs_price_code woocs_price_GBP\" data-currency=\"\" data-product-id=\"457\" data-redraw-id=\"681c00e475cd6\"><span class=\"woocommerce-Price-amount amount\"><bdi><span class=\"woocommerce-Price-currencySymbol\">£</span>4<small class=\"woocommerce-Price-decimal\">.46</small></bdi></span></span><span class=\"woocs_price_code woocs_price_CNY\" data-currency=\"\" data-product-id=\"457\" data-redraw-id=\"681c00e475df1\"><span class=\"woocommerce-Price-amount amount\"><bdi><span class=\"woocommerce-Price-currencySymbol\">¥</span>42<small class=\"woocommerce-Price-decimal\">.96</small></bdi></span></span></div> </a></li>\n"
     ]
    }
   ],
   "source": [
    "print(out_of_stock_element)"
   ]
  },
  {
   "cell_type": "code",
   "execution_count": null,
   "id": "bb79f244",
   "metadata": {},
   "outputs": [
    {
     "name": "stdout",
     "output_type": "stream",
     "text": [
      "None\n"
     ]
    }
   ],
   "source": []
  },
  {
   "cell_type": "code",
   "execution_count": null,
   "id": "a4b64e96",
   "metadata": {},
   "outputs": [
    {
     "name": "stdout",
     "output_type": "stream",
     "text": [
      "[]\n"
     ]
    }
   ],
   "source": []
  },
  {
   "cell_type": "code",
   "execution_count": null,
   "id": "086578a4",
   "metadata": {},
   "outputs": [
    {
     "name": "stdout",
     "output_type": "stream",
     "text": [
      "[]\n"
     ]
    }
   ],
   "source": []
  },
  {
   "cell_type": "code",
   "execution_count": null,
   "id": "1a900b50",
   "metadata": {},
   "outputs": [
    {
     "name": "stdout",
     "output_type": "stream",
     "text": [
      "None\n"
     ]
    }
   ],
   "source": []
  }
 ],
 "metadata": {
  "kernelspec": {
   "display_name": "tracker_venv",
   "language": "python",
   "name": "python3"
  },
  "language_info": {
   "codemirror_mode": {
    "name": "ipython",
    "version": 3
   },
   "file_extension": ".py",
   "mimetype": "text/x-python",
   "name": "python",
   "nbconvert_exporter": "python",
   "pygments_lexer": "ipython3",
   "version": "3.10.6"
  }
 },
 "nbformat": 4,
 "nbformat_minor": 5
}
